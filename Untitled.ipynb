{
 "cells": [
  {
   "cell_type": "code",
   "execution_count": 1,
   "metadata": {},
   "outputs": [],
   "source": [
    "!pip install seaborn keras-ncp -q"
   ]
  },
  {
   "cell_type": "code",
   "execution_count": 2,
   "metadata": {},
   "outputs": [],
   "source": [
    "from tensorflow import keras\n",
    "import os\n",
    "import numpy as np\n",
    "import kerasncp as kncp\n",
    "import matplotlib.pyplot as plt\n",
    "import seaborn as sns"
   ]
  },
  {
   "cell_type": "code",
   "execution_count": null,
   "metadata": {},
   "outputs": [],
   "source": [
    "N = x_train.shape[0]\n",
    "channels = x_train.shape[1]\n",
    "\n",
    "class ModelNCP():\n",
    "    def __init__(self):\n",
    "        ncp_arch = kncp.wirings.NCP(\n",
    "            inter_neurons=,\n",
    "            command_neurons=,\n",
    "            motor_neurons=,\n",
    "            sensory_fanout=,\n",
    "            inter_fanout=,\n",
    "            \n",
    "            motor_fanin=,\n",
    "        )\n",
    "        ncp_cell = kncp.LTCCell(ncp_arch)\n",
    "        \n",
    "        ncp_model = keras.models.Sequential([\n",
    "            keras.layers.InputLayer(input_shape=(None, N, channels)),\n",
    "            \n",
    "        ])"
   ]
  },
  {
   "cell_type": "code",
   "execution_count": 1,
   "metadata": {},
   "outputs": [],
   "source": [
    "import torch"
   ]
  },
  {
   "cell_type": "code",
   "execution_count": null,
   "metadata": {},
   "outputs": [],
   "source": []
  }
 ],
 "metadata": {
  "kernelspec": {
   "display_name": "Python 3",
   "language": "python",
   "name": "python3"
  },
  "language_info": {
   "codemirror_mode": {
    "name": "ipython",
    "version": 3
   },
   "file_extension": ".py",
   "mimetype": "text/x-python",
   "name": "python",
   "nbconvert_exporter": "python",
   "pygments_lexer": "ipython3",
   "version": "3.7.9"
  }
 },
 "nbformat": 4,
 "nbformat_minor": 4
}
